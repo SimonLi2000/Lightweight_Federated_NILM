{
 "cells": [
  {
   "cell_type": "code",
   "execution_count": null,
   "metadata": {},
   "outputs": [],
   "source": [
    "import os\n",
    "os.environ['CUDA_VISIBLE_DEVICES'] = \"0\"\n",
    "import torch\n",
    "from Client import Client\n",
    "from Server import Server\n",
    "from Dataset import load_data, choose_data, setup_seed\n",
    "\n",
    "device = torch.device('cuda' if torch.cuda.is_available() else 'cpu')\n",
    "print(f\"Using {device} device\")"
   ]
  },
  {
   "cell_type": "code",
   "execution_count": null,
   "metadata": {},
   "outputs": [],
   "source": [
    "seed = 1\n",
    "search_rounds = 50\n",
    "train_rounds= 50\n",
    "finetune_rounds = 30\n",
    "lr_weight = 3e-4\n",
    "lr_alpha = 1e-4\n",
    "channel = 32\n",
    "node = 5\n",
    "\n",
    "setup_seed(seed)\n",
    "# REFIT/REDD dataset\n",
    "dataset = 'dataset/REFIT/'\n",
    "# choose target appliance, REFIT (Fridge, Washing, Dish, Microwave, Kettle)\n",
    "appliance = 'Fridge'\n",
    "targets_set = choose_data(dataset, appliance)\n",
    "datas = load_data(path=dataset, postfix='*.csv', appliance = appliance, choose=targets_set)"
   ]
  },
  {
   "cell_type": "code",
   "execution_count": null,
   "metadata": {},
   "outputs": [],
   "source": [
    "clients = []\n",
    "\n",
    "for i in range(len(targets_set)):\n",
    "    data = datas[i]\n",
    "    client = Client(data = data,\n",
    "                    lr_weight = lr_weight,\n",
    "                    lr_alpha = lr_alpha,\n",
    "                    appliance = appliance,\n",
    "                    channel = channel,\n",
    "                    node = node)\n",
    "    clients.append(client)\n",
    "del datas\n",
    "torch.cuda.empty_cache()\n",
    "server = Server(clients = clients, \n",
    "                train_rounds = train_rounds,\n",
    "                search_rounds = search_rounds,\n",
    "                finetune_rounds = finetune_rounds)"
   ]
  },
  {
   "cell_type": "markdown",
   "metadata": {},
   "source": [
    "### Centralized"
   ]
  },
  {
   "cell_type": "code",
   "execution_count": null,
   "metadata": {},
   "outputs": [],
   "source": [
    "server.centralized_train()"
   ]
  },
  {
   "cell_type": "markdown",
   "metadata": {},
   "source": [
    "### Local"
   ]
  },
  {
   "cell_type": "code",
   "execution_count": null,
   "metadata": {},
   "outputs": [],
   "source": [
    "server.local_train()"
   ]
  },
  {
   "cell_type": "markdown",
   "metadata": {},
   "source": [
    "### Federated"
   ]
  },
  {
   "cell_type": "code",
   "execution_count": null,
   "metadata": {},
   "outputs": [],
   "source": [
    "server.fed_train()"
   ]
  },
  {
   "cell_type": "markdown",
   "metadata": {},
   "source": [
    "### NAS"
   ]
  },
  {
   "cell_type": "code",
   "execution_count": null,
   "metadata": {},
   "outputs": [],
   "source": [
    "server.local_nas_search()"
   ]
  },
  {
   "cell_type": "code",
   "execution_count": null,
   "metadata": {},
   "outputs": [],
   "source": [
    "server.local_nas_train()"
   ]
  },
  {
   "cell_type": "markdown",
   "metadata": {},
   "source": [
    "### MNAS"
   ]
  },
  {
   "cell_type": "code",
   "execution_count": null,
   "metadata": {},
   "outputs": [],
   "source": [
    "server.local_nas_search_single()"
   ]
  },
  {
   "cell_type": "code",
   "execution_count": null,
   "metadata": {},
   "outputs": [],
   "source": [
    "server.local_nas_train_single()"
   ]
  },
  {
   "cell_type": "markdown",
   "metadata": {},
   "source": [
    "### Proposed Federated MNAS"
   ]
  },
  {
   "cell_type": "code",
   "execution_count": null,
   "metadata": {},
   "outputs": [],
   "source": [
    "server.local_nas_search_single()"
   ]
  },
  {
   "cell_type": "code",
   "execution_count": null,
   "metadata": {},
   "outputs": [],
   "source": [
    "server.fed_nas_train_single()"
   ]
  }
 ],
 "metadata": {
  "kernelspec": {
   "display_name": "lyh",
   "language": "python",
   "name": "python3"
  },
  "language_info": {
   "codemirror_mode": {
    "name": "ipython",
    "version": 3
   },
   "file_extension": ".py",
   "mimetype": "text/x-python",
   "name": "python",
   "nbconvert_exporter": "python",
   "pygments_lexer": "ipython3",
   "version": "3.10.13"
  }
 },
 "nbformat": 4,
 "nbformat_minor": 2
}
